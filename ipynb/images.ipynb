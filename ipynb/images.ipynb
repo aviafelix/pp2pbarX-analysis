{
 "cells": [
  {
   "cell_type": "code",
   "execution_count": 1,
   "metadata": {
    "collapsed": true
   },
   "outputs": [],
   "source": [
    "from PIL import Image\n",
    "import random\n",
    "import os\n",
    "import numpy.random as nprnd\n",
    "import numpy as np\n",
    "\n",
    "nprnd.seed(\n",
    "    int.from_bytes(\n",
    "        os.urandom(8),\n",
    "        byteorder='big',\n",
    "#         byteorder='little',\n",
    "        signed=False)\n",
    ")"
   ]
  },
  {
   "cell_type": "code",
   "execution_count": null,
   "metadata": {
    "collapsed": false
   },
   "outputs": [],
   "source": [
    "# uniform distribution\n",
    "# SIZE_X = 256\n",
    "# SIZE_Y = 256\n",
    "SIZE_X = 4288\n",
    "SIZE_Y = 2848\n",
    "\n",
    "im = Image.new('L', (SIZE_X, SIZE_Y))\n",
    "\n",
    "# cc = []\n",
    "for y in range(SIZE_Y):\n",
    "    for x in range(SIZE_X):\n",
    "        # (N+1)*uniform() - 0.5\n",
    "        c = int(round(256 * random.random()-0.5))\n",
    "#         c = int(round(255 * random.random()))\n",
    "#         c = random.randint(0, 255)\n",
    "#         cc.append(c)\n",
    "        im.putpixel((x, y), c)\n",
    "\n",
    "# im.save('uniform.png', 'png')\n",
    "print(im.histogram())\n",
    "del im"
   ]
  },
  {
   "cell_type": "code",
   "execution_count": null,
   "metadata": {
    "collapsed": false
   },
   "outputs": [],
   "source": [
    "# test distribution\n",
    "SIZE_X = 256\n",
    "SIZE_Y = 256\n",
    "# SIZE_X = 4288\n",
    "# SIZE_Y = 2848\n",
    "\n",
    "im = Image.new('L', (SIZE_X, SIZE_Y))\n",
    "\n",
    "# cc = []\n",
    "for y in range(SIZE_Y):\n",
    "    for x in range(SIZE_X):\n",
    "        c = int(round(\n",
    "#             255 * 0.5 * (\n",
    "            255 * 0.125 * (\n",
    "                random.random() +\n",
    "                random.random() +\n",
    "                random.random() +\n",
    "                random.random() +\n",
    "                random.random() +\n",
    "                random.random() +\n",
    "                random.random() +\n",
    "                random.random()\n",
    "            )\n",
    "        ))\n",
    "#         cc.append(c)\n",
    "        im.putpixel((x, y), c)\n",
    "\n",
    "im.save('non-uniform.png', 'png')\n",
    "# print(im.histogram())\n",
    "del im"
   ]
  },
  {
   "cell_type": "code",
   "execution_count": 42,
   "metadata": {
    "collapsed": false
   },
   "outputs": [
    {
     "name": "stdout",
     "output_type": "stream",
     "text": [
      "82.8573946344319410  83  83  83 \n",
      "105.9609763488784893 106 106 106\n",
      "105.3927524320994422 105 105 105\n",
      "153.9421516992782415 154 154 154\n",
      "83.4548081134470294  83  83  83 \n",
      "201.8788422703278798 202 202 202\n",
      "244.7439905542474037 245 245 245\n",
      "4.6151340669486842   5   5   5  \n",
      "172.9720155488329283 173 173 173\n"
     ]
    }
   ],
   "source": [
    "for i in range(9):\n",
    "    c = 255 * random.random()\n",
    "    print(\"{0:<20.16f} {1:<3} {2:<3} {3:<3}\".format(c, round(c), int(round(c)), int(c + 0.5), ) )"
   ]
  },
  {
   "cell_type": "code",
   "execution_count": 74,
   "metadata": {
    "collapsed": false
   },
   "outputs": [
    {
     "name": "stdout",
     "output_type": "stream",
     "text": [
      "-0.0025117167166383903\n",
      "0.002509640382255349\n",
      "0.0023401754739715576\n",
      "0.005290833584400746\n",
      "0.00701410950220137\n",
      "-0.013079865821062915\n",
      "0.0015734926658405061\n",
      "-0.018174315092899684\n",
      "0.005423915539091347\n"
     ]
    }
   ],
   "source": [
    "for i in range(9):\n",
    "#     c = random.gauss(mu=1.0, sigma=1.0)\n",
    "    c = random.normalvariate(mu=0.0, sigma=0.01)\n",
    "    print(\"{0:<3}\".format(c) )"
   ]
  },
  {
   "cell_type": "code",
   "execution_count": null,
   "metadata": {
    "collapsed": true
   },
   "outputs": [],
   "source": [
    "im = Image.open('non-uniform-1.png')\n",
    "print(im.histogram())\n",
    "del im"
   ]
  },
  {
   "cell_type": "code",
   "execution_count": null,
   "metadata": {
    "collapsed": false
   },
   "outputs": [],
   "source": [
    "SIZE_X = 4288\n",
    "SIZE_Y = 2848\n",
    "# nprnd.uniform(0.0, 255.0, SIZE_X*SIZE_U)\n",
    "im = Image.fromarray(\n",
    "    np.uint8(\n",
    "        nprnd.uniform(0.0, 256.0, (SIZE_Y, SIZE_X))\n",
    "#         nprnd.random_integers(0, 255, (SIZE_Y, SIZE_X))\n",
    "#         nprnd.randint(0, 256, (SIZE_Y, SIZE_X))\n",
    "\n",
    "#         0.5 * (nprnd.uniform(0.0, 256.0, (SIZE_Y, SIZE_X))\n",
    "#               + nprnd.uniform(0.0, 256.0, (SIZE_Y, SIZE_X)))\n",
    "    )\n",
    ")\n",
    "print(im.histogram())\n",
    "# im.save('uniform-nprnd.png', 'png')\n",
    "del im"
   ]
  },
  {
   "cell_type": "code",
   "execution_count": 63,
   "metadata": {
    "collapsed": false
   },
   "outputs": [
    {
     "data": {
      "text/plain": [
       "8908970103692570207"
      ]
     },
     "execution_count": 63,
     "metadata": {},
     "output_type": "execute_result"
    }
   ],
   "source": [
    "int.from_bytes(\n",
    "    os.urandom(8),\n",
    "    byteorder='little',\n",
    "    signed=False)\n"
   ]
  },
  {
   "cell_type": "code",
   "execution_count": 4,
   "metadata": {
    "collapsed": false
   },
   "outputs": [
    {
     "name": "stdout",
     "output_type": "stream",
     "text": [
      "041c:0443:0430:043c:0430:0440:0440:0020:0425:0430:0440:0445:0430:0440:0438\n",
      "74:65:73:74:5f:73:74:72:69:6e:67:20:48:6d:2e\n"
     ]
    }
   ],
   "source": [
    "s = 'Муамарр Хархари'\n",
    "print(\":\".join(\"{:04x}\".format(ord(c)) for c in s))\n",
    "s = 'test_string Hm.'\n",
    "print(\":\".join(\"{:02x}\".format(ord(c)) for c in s))"
   ]
  },
  {
   "cell_type": "code",
   "execution_count": 149,
   "metadata": {
    "collapsed": false
   },
   "outputs": [
    {
     "name": "stdout",
     "output_type": "stream",
     "text": [
      "0.0\n",
      "nan\n",
      "\n",
      "00 3.000000000000000000000000000000 00.00.00.00.00.00.08.40\n",
      "\n",
      "-3 8.000000000000000000000000000000 00.00.00.00.00.00.20.40\n",
      "-2 4.000000000000000000000000000000 00.00.00.00.00.00.10.40\n",
      "-1 2.000000000000000000000000000000 00.00.00.00.00.00.00.40\n",
      "00 1.000000000000000000000000000000 00.00.00.00.00.00.f0.3f\n",
      "01 0.500000000000000000000000000000 00.00.00.00.00.00.e0.3f\n",
      "02 0.250000000000000000000000000000 00.00.00.00.00.00.d0.3f\n",
      "03 0.125000000000000000000000000000 00.00.00.00.00.00.c0.3f\n",
      "04 0.062500000000000000000000000000 00.00.00.00.00.00.b0.3f\n",
      "05 0.031250000000000000000000000000 00.00.00.00.00.00.a0.3f\n",
      "06 0.015625000000000000000000000000 00.00.00.00.00.00.90.3f\n",
      "07 0.007812500000000000000000000000 00.00.00.00.00.00.80.3f\n",
      "08 0.003906250000000000000000000000 00.00.00.00.00.00.70.3f\n",
      "09 0.001953125000000000000000000000 00.00.00.00.00.00.60.3f\n",
      "10 0.000976562500000000000000000000 00.00.00.00.00.00.50.3f\n",
      "11 0.000488281250000000000000000000 00.00.00.00.00.00.40.3f\n",
      "12 0.000244140625000000000000000000 00.00.00.00.00.00.30.3f\n",
      "13 0.000122070312500000000000000000 00.00.00.00.00.00.20.3f\n",
      "14 0.000061035156250000000000000000 00.00.00.00.00.00.10.3f\n",
      "15 0.000030517578125000000000000000 00.00.00.00.00.00.00.3f\n",
      "16 0.000015258789062500000000000000 00.00.00.00.00.00.f0.3e\n",
      "17 0.000007629394531250000000000000 00.00.00.00.00.00.e0.3e\n",
      "18 0.000003814697265625000000000000 00.00.00.00.00.00.d0.3e\n",
      "19 0.000001907348632812500000000000 00.00.00.00.00.00.c0.3e\n",
      "20 0.000000953674316406250000000000 00.00.00.00.00.00.b0.3e\n",
      "21 0.000000476837158203125000000000 00.00.00.00.00.00.a0.3e\n",
      "22 0.000000238418579101562500000000 00.00.00.00.00.00.90.3e\n",
      "23 0.000000119209289550781250000000 00.00.00.00.00.00.80.3e\n",
      "24 0.000000059604644775390625000000 00.00.00.00.00.00.70.3e\n",
      "25 0.000000029802322387695312500000 00.00.00.00.00.00.60.3e\n",
      "26 0.000000014901161193847656250000 00.00.00.00.00.00.50.3e\n",
      "27 0.000000007450580596923828125000 00.00.00.00.00.00.40.3e\n",
      "28 0.000000003725290298461914062500 00.00.00.00.00.00.30.3e\n",
      "29 0.000000001862645149230957031250 00.00.00.00.00.00.20.3e\n",
      "30 0.000000000931322574615478515625 00.00.00.00.00.00.10.3e\n",
      "31 0.000000000465661287307739257812 00.00.00.00.00.00.00.3e\n"
     ]
    }
   ],
   "source": [
    "# fd = float.__dict__\n",
    "# for g in fd:\n",
    "#     print(\"{}: {}\".format(g, fd[g]))\n",
    "\n",
    "# fn = 1.5\n",
    "# print(fn.hex())\n",
    "\n",
    "# n = 65535 - 255 * 256 + 65536 * 255\n",
    "# n.to_bytes((n.bit_length() + 7) // 8, 'big')\n",
    "# n.to_bytes(4, 'little')\n",
    "\n",
    "# import struct\n",
    "\n",
    "print(struct.unpack('@d', b'\\x00\\x00\\x00\\x00\\x00\\x00\\x00\\x00')[0])\n",
    "print(struct.unpack('@d', b'\\xff\\xff\\xff\\xff\\xff\\xff\\xff\\xff')[0])\n",
    "print()\n",
    "\n",
    "g = 0\n",
    "float_number = 3.0\n",
    "print(\"{:02d} {:.30f}\".format(g, float_number), \".\".join(map(lambda b: format(b, \"02x\"), struct.pack('@d', float_number))))\n",
    "print()\n",
    "\n",
    "float_number = 8.0\n",
    "for g in range(-3, 32):\n",
    "    print(\"{:02d} {:.30f}\".format(g, float_number), \".\".join(map(lambda b: format(b, \"02x\"), struct.pack('@d', float_number))))\n",
    "    float_number *= 0.5\n",
    "\n",
    "# print(\"\".join(map(lambda b: format(b, \"02x\"), struct.pack('@d', 0.0))))\n",
    "# print(\"\".join(map(lambda b: format(b, \"02x\"), struct.pack('@d', 0.0000152587890625))))\n",
    "# print(\"\".join(map(lambda b: format(b, \"02x\"), struct.pack('@d', 0.000030517578125))))\n",
    "# print(\"\".join(map(lambda b: format(b, \"02x\"), struct.pack('@d', 0.00006103515625))))\n",
    "# print(\"\".join(map(lambda b: format(b, \"02x\"), struct.pack('@d', 0.0001220703125))))\n",
    "# print(\"\".join(map(lambda b: format(b, \"02x\"), struct.pack('@d', 0.000244140625))))\n",
    "# print(\"\".join(map(lambda b: format(b, \"02x\"), struct.pack('@d', 0.00048828125))))\n",
    "# print(\"\".join(map(lambda b: format(b, \"02x\"), struct.pack('@d', 0.0009765625))))\n",
    "# print(\"\".join(map(lambda b: format(b, \"02x\"), struct.pack('@d', 0.001953125))))\n",
    "# print(\"\".join(map(lambda b: format(b, \"02x\"), struct.pack('@d', 0.00390625))))\n",
    "# print(\"\".join(map(lambda b: format(b, \"02x\"), struct.pack('@d', 0.0078125))))\n",
    "# print(\"\".join(map(lambda b: format(b, \"02x\"), struct.pack('@d', 0.015625))))\n",
    "# print(\"\".join(map(lambda b: format(b, \"02x\"), struct.pack('@d', 0.03125))))\n",
    "# print(\"\".join(map(lambda b: format(b, \"02x\"), struct.pack('@d', 0.0625))))\n",
    "# print(\"\".join(map(lambda b: format(b, \"02x\"), struct.pack('@d', 0.125))))\n",
    "# print(\"\".join(map(lambda b: format(b, \"02x\"), struct.pack('@d', 0.25))))\n",
    "# print(\"\".join(map(lambda b: format(b, \"02x\"), struct.pack('@d', 0.5))))\n",
    "# print(\"\".join(map(lambda b: format(b, \"02x\"), struct.pack('@d', 1.0))))\n",
    "# print(\"\".join(map(lambda b: format(b, \"02x\"), struct.pack('@d', 2.0))))\n",
    "# print(\"\".join(map(lambda b: format(b, \"02x\"), struct.pack('@d', 4.0))))\n"
   ]
  },
  {
   "cell_type": "code",
   "execution_count": 1,
   "metadata": {
    "collapsed": false
   },
   "outputs": [
    {
     "name": "stdout",
     "output_type": "stream",
     "text": [
      "0.9999999997671694\n",
      "1.0\n",
      "0.9999999997671694\n",
      "1.0\n"
     ]
    }
   ],
   "source": [
    "def float_from_bytes(arr):\n",
    "    g = 0.0\n",
    "    e = 1/256\n",
    "    for a in arr:\n",
    "        g = e*(g + a)\n",
    "    return g\n",
    "\n",
    "print(float_from_bytes([255, 255, 255, 255, ]))\n",
    "print(float_from_bytes([255, 255, 255, 255, 255, 255, 255, 255, ]))\n",
    "print(float_from_bytes(b'\\xff\\xff\\xff\\xff'))\n",
    "print(float_from_bytes(b'\\xff\\xff\\xff\\xff\\xff\\xff\\xff\\xff'))"
   ]
  },
  {
   "cell_type": "code",
   "execution_count": null,
   "metadata": {
    "collapsed": false
   },
   "outputs": [],
   "source": [
    "# uniform distribution\n",
    "# SIZE_X = 256\n",
    "# SIZE_Y = 256\n",
    "SIZE_X = 4288\n",
    "SIZE_Y = 2848\n",
    "\n",
    "im = Image.new('L', (SIZE_X, SIZE_Y))\n",
    "\n",
    "with open('/media/aviafelix/Elements/_fttx', 'rb') as frnd:\n",
    "    for y in range(SIZE_Y):\n",
    "        for x in range(SIZE_X):\n",
    "            # не учитывается длина файла, считаем,\n",
    "            # что его размер достаточен.\n",
    "#             c = int(round(255 * float_from_bytes(frnd.read(8))))\n",
    "#             c = int(round(256 * float_from_bytes(frnd.read(8))-0.5))\n",
    "#             c = int.from_bytes(\n",
    "#                 frnd.read(1),\n",
    "#                 byteorder='little',\n",
    "#                 signed=False)\n",
    "            c = frnd.read(1)[0]\n",
    "            im.putpixel((x, y), c)\n",
    "\n",
    "im.save('uniform-2.png', 'png')\n",
    "print(im.histogram())\n",
    "del im"
   ]
  },
  {
   "cell_type": "code",
   "execution_count": 21,
   "metadata": {
    "collapsed": false
   },
   "outputs": [
    {
     "name": "stdout",
     "output_type": "stream",
     "text": [
      "0.25098039215686274\n",
      "0.250980392156862741614986589411 10.10.10.10.10.10.d0.3f\n"
     ]
    }
   ],
   "source": [
    "import struct\n",
    "float_number = float_from_bytes(b'\\x40\\x40\\x40\\x40\\x40\\x40\\x40\\x40')\n",
    "# float_number = float_from_bytes(b'\\xff\\xff\\xff\\xff\\xff\\xff\\xff\\xff')\n",
    "print(float_number)\n",
    "print(\"{:.30f}\".format(float_number), \".\".join(map(lambda b: format(b, \"02x\"), struct.pack('@d', float_number))))"
   ]
  }
 ],
 "metadata": {
  "kernelspec": {
   "display_name": "Python 3",
   "language": "python",
   "name": "python3"
  },
  "language_info": {
   "codemirror_mode": {
    "name": "ipython",
    "version": 3
   },
   "file_extension": ".py",
   "mimetype": "text/x-python",
   "name": "python",
   "nbconvert_exporter": "python",
   "pygments_lexer": "ipython3",
   "version": "3.4.3"
  }
 },
 "nbformat": 4,
 "nbformat_minor": 0
}
