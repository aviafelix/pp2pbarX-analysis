{
 "cells": [
  {
   "cell_type": "code",
   "execution_count": 1,
   "metadata": {
    "collapsed": false
   },
   "outputs": [],
   "source": [
    "import plotsettings\n",
    "import numpy as np\n",
    "import pandas as pd\n",
    "import matplotlib.pyplot as plt\n",
    "import math\n",
    "import scipy.special as ss\n",
    "import plotsettings"
   ]
  },
  {
   "cell_type": "code",
   "execution_count": 2,
   "metadata": {
    "collapsed": true
   },
   "outputs": [],
   "source": [
    "%matplotlib inline\n",
    "%config InlineBackend.figure_format = 'svg'\n",
    "# %load_ext autoreload\n",
    "\n",
    "# %autoreload 0"
   ]
  },
  {
   "cell_type": "markdown",
   "metadata": {},
   "source": [
    "#### General definitions:\n",
    "$\\mu(\\beta) = \\dfrac{m_W^2}{2 \\, \\beta}\\,,$ where $\\beta$ is magnetic field strength in $\\mathrm{GeV}^2;$\n",
    "\n",
    "$n_\\mathrm{max}(x, \\mu, m) = \\left(\\sqrt{x} - \\sqrt{m}\\right)^2 - \\mu+\\dfrac{1}{2};$\n",
    "\n",
    "$m_\\mathrm{max}(x, \\mu, n) = \\left(\\sqrt{x} - \\sqrt{n + \\mu - \\dfrac{1}{2}}\\right)^2;$\n",
    "\n",
    "$d(x, \\mu, n, m) = \\sqrt{ \\left(x - \\mu - n + m + \\dfrac{1}{2}\\right)^2 - 4 \\, m \\, x };$"
   ]
  },
  {
   "cell_type": "code",
   "execution_count": 3,
   "metadata": {
    "collapsed": false
   },
   "outputs": [],
   "source": [
    "m_W = mW = 80.385     # W-boson mass in GeV.\n",
    "G_F = 1.16637E-05     # Fermi coupling constant in GeV^{-2}\n",
    "Kfp = G_F * m_W * m_W * m_W / (2 * math.sqrt(2) * math.pi) # the common factor of the probability"
   ]
  },
  {
   "cell_type": "code",
   "execution_count": 4,
   "metadata": {
    "collapsed": true
   },
   "outputs": [],
   "source": [
    "floor = math.floor\n",
    "sqrt = math.sqrt\n",
    "exp = math.exp\n",
    "isfinite = math.isfinite\n",
    "# floor = np.floor\n",
    "# sqrt = np.sqrt\n",
    "# exp = np.exp\n",
    "\n",
    "def mu(beta):\n",
    "    \"\"\"\n",
    "    m_W^2 / (2 \\beta);\n",
    "    here beta is dimensionless parameter in units of m_W^2.\n",
    "    \"\"\"\n",
    "    return 0.5 / beta\n",
    "\n",
    "def n_max(x, mu, m=0):\n",
    "    \"\"\"\n",
    "    n_max = (\\sqrt{x} - \\sqrt{m})^2 - \\mu + 1/2\n",
    "    \"\"\"\n",
    "    if m == 0:\n",
    "        return floor(x-mu+0.5)\n",
    "    else:\n",
    "        t = sqrt(x) - sqrt(m)\n",
    "        return floor(t*t - mu + 0.5)\n",
    "\n",
    "def m_max(x, mu, n=0):\n",
    "    \"\"\"\n",
    "    m_max = (\\sqrt{x} - \\sqrt{n + \\mu - 1/2})^2\n",
    "    \"\"\"\n",
    "    t = sqrt(x) - sqrt(n+mu-0.5)\n",
    "    return floor(t*t)\n",
    "\n",
    "def d(x, mu, n, m):\n",
    "    \"\"\"\n",
    "    $d = \\sqrt{ \\left(x - \\mu - n + m + 1/2\\right)^2 - 4 \\, m \\, x };$\n",
    "    \"\"\"\n",
    "    t = x - mu - n + m + 0.5\n",
    "    return sqrt(t*t - 4*m*x)"
   ]
  },
  {
   "cell_type": "code",
   "execution_count": 39,
   "metadata": {
    "collapsed": true
   },
   "outputs": [],
   "source": [
    "copysign = math.copysign\n",
    "sign = lambda x: copysign(1.0, x)\n",
    "\n",
    "def heaviside_theta(x):\n",
    "    \"\"\"\n",
    "    Def. of Heaviside theta function\n",
    "    \"\"\"\n",
    "    return 0.5 * (copysign(1.0, x) + 1.0)\n",
    "\n",
    "theta = heaviside_theta\n",
    "laguerre_l = ss.eval_genlaguerre\n",
    "\n",
    "def pow_multifactorial(x, a, b):\n",
    "    \"\"\"\n",
    "    \"\"\"\n",
    "    if a == b:\n",
    "        return 1.0\n",
    "#         return 1.0/x\n",
    "    if a < 0:\n",
    "        if b < 0:\n",
    "            return float('nan')\n",
    "        else:\n",
    "            return float('inf')\n",
    "    elif b < 0:\n",
    "        return 0.0\n",
    "\n",
    "    s = 1.0\n",
    "#     s = 1.0/x\n",
    "    if a >= b:\n",
    "        for i in range(b+1, a+1):\n",
    "            s *= i/x\n",
    "    else:\n",
    "        for i in range(a+1, b+1):\n",
    "            s *= x/i\n",
    "    return s\n",
    "\n",
    "def wp_nm(x, mu):\n",
    "    \"\"\"\n",
    "    \"\"\"\n",
    "    s = 0.0\n",
    "\n",
    "    nmax = n_max(x, mu)\n",
    "    for n in range(nmax+1):\n",
    "        mmax = m_max(x, mu, n)\n",
    "        for m in range(mmax+1):\n",
    "            if  (sqrt(x) - sqrt(n + mu - 0.5) - sqrt(m) >= 0):\n",
    "                p0 = pow_multifactorial(x, m, n-1)\n",
    "                p1 = pow_multifactorial(x, m, n)\n",
    "                p2 = pow_multifactorial(x, m-1, n-2)\n",
    "                if isfinite(p2) and (n > 1):\n",
    "                    l2 = laguerre_l(m-1, n-m-1, x)\n",
    "                    l2 = p2 * l2 * l2\n",
    "                else:\n",
    "                    l2 = 0\n",
    "                l1 = laguerre_l(m, n-m, x)\n",
    "                l1 = p1 * l1 * l1\n",
    "                # theta(sqrt(x) - sqrt(n + mu - 0.5) - sqrt(m)) *\n",
    "                s += (\n",
    "                    -4 * p0 * x * laguerre_l(m, n-m-1, x) * laguerre_l(m-1, n-m, x) +\n",
    "                    (x - mu - n + m + 0.5) * (l1 + l2)\n",
    "                ) / d(x, mu, n, m)\n",
    "    \n",
    "    return Kfp*exp(-x)/sqrt(mu*x) * s\n",
    "\n",
    "def wp_mn(x, mu):\n",
    "    \"\"\"\n",
    "    \"\"\"\n",
    "    s = 0.0\n",
    "\n",
    "    mmax = m_max(x, mu)\n",
    "    for m in range(mmax+1):\n",
    "        nmax = n_max(x, mu, m)\n",
    "        for n in range(nmax+1):\n",
    "            if (sqrt(x) - sqrt(n + mu - 0.5) - sqrt(m) >= 0):\n",
    "                p0 = pow_multifactorial(x, n-1, m-1)\n",
    "                p1 = pow_multifactorial(x, n, m)\n",
    "                p2 = pow_multifactorial(x, n-2, m-1)\n",
    "                if isfinite(p2) and (n > 1):\n",
    "                    l2 = laguerre_l(n-2, m-n+1, x)\n",
    "                    l2 = p2 * l2 * l2\n",
    "                else:\n",
    "                    l2 = 0\n",
    "                l1 = laguerre_l(n, m-n, x)\n",
    "                l1 = p1 * l1 * l1\n",
    "                # theta(sqrt(x) - sqrt(n + mu - 0.5) - sqrt(m)) * \n",
    "                s += (\n",
    "                    4 * p0 * x * laguerre_l(n-1, m-n+1, x) * laguerre_l(n-1, m-n, x) +\n",
    "                    (x - mu - n + m + 0.5) * (l1 + l2)\n",
    "                ) / d(x, mu, n, m)\n",
    "    \n",
    "    return Kfp*exp(-x)/sqrt(mu*x) * s\n",
    "\n",
    "def wm(x, mu):\n",
    "    \"\"\"\n",
    "    \"\"\"\n",
    "    pass\n"
   ]
  },
  {
   "cell_type": "code",
   "execution_count": 40,
   "metadata": {
    "collapsed": false
   },
   "outputs": [
    {
     "name": "stdout",
     "output_type": "stream",
     "text": [
      "0 0\n",
      "0.000779222213005\n",
      "?\n",
      "0 0\n",
      "nan\n"
     ]
    }
   ],
   "source": [
    "print(wp_mn(5.15, mu(1/10)))\n",
    "print(\"?\")\n",
    "print(wp_nm(5.15, mu(1/10)))"
   ]
  },
  {
   "cell_type": "code",
   "execution_count": 42,
   "metadata": {
    "collapsed": false
   },
   "outputs": [
    {
     "data": {
      "text/plain": [
       "0.0"
      ]
     },
     "execution_count": 42,
     "metadata": {},
     "output_type": "execute_result"
    }
   ],
   "source": [
    "laguerre_l(-1, 0, 5.15)"
   ]
  }
 ],
 "metadata": {
  "kernelspec": {
   "display_name": "Python 3",
   "language": "python",
   "name": "python3"
  },
  "language_info": {
   "codemirror_mode": {
    "name": "ipython",
    "version": 3
   },
   "file_extension": ".py",
   "mimetype": "text/x-python",
   "name": "python",
   "nbconvert_exporter": "python",
   "pygments_lexer": "ipython3",
   "version": "3.4.3"
  }
 },
 "nbformat": 4,
 "nbformat_minor": 1
}
