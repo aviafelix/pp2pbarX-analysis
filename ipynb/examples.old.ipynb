{
 "cells": [
  {
   "cell_type": "code",
   "execution_count": 1,
   "metadata": {
    "collapsed": true
   },
   "outputs": [],
   "source": [
    "import plotsettings\n",
    "import numpy as np\n",
    "import pandas as pd\n",
    "import matplotlib.pyplot as plt\n",
    "import math"
   ]
  },
  {
   "cell_type": "code",
   "execution_count": 2,
   "metadata": {
    "collapsed": true
   },
   "outputs": [],
   "source": [
    "%matplotlib inline\n",
    "%config InlineBackend.figure_format = 'svg'\n",
    "# %load_ext autoreload\n",
    "# %autoreload 2"
   ]
  },
  {
   "cell_type": "code",
   "execution_count": 18,
   "metadata": {
    "collapsed": true
   },
   "outputs": [],
   "source": [
    "DATADIR = 'pythia-pp2pbarx/examples.old/'\n",
    "TASKNAME = '002'\n",
    "WORKDIR = DATADIR+TASKNAME+'/'\n",
    "ANALYZED_DATA_DIR = '_analyzed/'\n",
    "# %autoreload 0\n",
    "\n",
    "import os\n",
    "os.makedirs(WORKDIR+ANALYZED_DATA_DIR, exist_ok=True)"
   ]
  },
  {
   "cell_type": "code",
   "execution_count": 19,
   "metadata": {
    "collapsed": false
   },
   "outputs": [],
   "source": [
    "pbar = np.fromfile(WORKDIR+'pbar.bin', count=-1, )\n",
    "nbar = np.fromfile(WORKDIR+'nbar.bin', count=-1, )\n",
    "\n",
    "# === pbars\n",
    "# hist_pbar_x = np.fromfile(WORKDIR+'x-histogram_means_pbar.dat', count=-1, )\n",
    "# hist_pbar_y = np.fromfile(WORKDIR+'y-histogram_means_pbar.dat', count=-1, )\n",
    "# hist_pbar_x = np.fromfile(WORKDIR+'x-histogram_window_pbar.dat', count=-1, )\n",
    "# hist_pbar_y = np.fromfile(WORKDIR+'y-histogram_window_pbar.dat', count=-1, )\n",
    "\n",
    "# hist_pbar_x = np.fromfile(WORKDIR+'x-histogram_means_log_pbar.dat', count=-1, )\n",
    "# hist_pbar_y = np.fromfile(WORKDIR+'y-histogram_means_log_pbar.dat', count=-1, )\n",
    "# hist_pbar_x = np.fromfile(WORKDIR+'x-histogram_window_log_pbar.dat', count=-1, )\n",
    "# hist_pbar_y = np.fromfile(WORKDIR+'y-histogram_window_log_pbar.dat', count=-1, )\n",
    "\n",
    "# === nbars\n",
    "hist_nbar_x = np.fromfile(WORKDIR+'x-histogram_means_nbar.dat', count=-1, )\n",
    "hist_nbar_y = np.fromfile(WORKDIR+'y-histogram_means_nbar.dat', count=-1, )\n",
    "# hist_nbar_x = np.fromfile(WORKDIR+'x-histogram_window_nbar.dat', count=-1, )\n",
    "# hist_nbar_y = np.fromfile(WORKDIR+'y-histogram_window_nbar.dat', count=-1, )\n",
    "\n",
    "# hist_nbar_x = np.fromfile(WORKDIR+'x-histogram_means_log_nbar.dat', count=-1, )\n",
    "# hist_nbar_y = np.fromfile(WORKDIR+'y-histogram_means_log_nbar.dat', count=-1, )\n",
    "# hist_nbar_x = np.fromfile(WORKDIR+'x-histogram_window_log_nbar.dat', count=-1, )\n",
    "# hist_nbar_y = np.fromfile(WORKDIR+'y-histogram_window_log_nbar.dat', count=-1, )\n"
   ]
  },
  {
   "cell_type": "code",
   "execution_count": 22,
   "metadata": {
    "collapsed": false
   },
   "outputs": [
    {
     "data": {
      "text/plain": [
       "array([ 1.40960608,  1.55072002,  1.66014922,  1.75656567,  1.89655471,\n",
       "        1.98381105,  2.11251504,  2.21230516,  2.31398402,  2.45627531,\n",
       "        2.54841029,  2.68491913,  2.80937773,  2.92180883,  3.06957209,\n",
       "        3.13451392,  3.25424934,  3.36182275,  3.47583773,  3.64686019])"
      ]
     },
     "execution_count": 22,
     "metadata": {},
     "output_type": "execute_result"
    }
   ],
   "source": [
    "hist_nbar_x"
   ]
  },
  {
   "cell_type": "raw",
   "metadata": {},
   "source": []
  },
  {
   "cell_type": "code",
   "execution_count": null,
   "metadata": {
    "collapsed": true
   },
   "outputs": [],
   "source": []
  }
 ],
 "metadata": {
  "kernelspec": {
   "display_name": "Python 3",
   "language": "python",
   "name": "python3"
  },
  "language_info": {
   "codemirror_mode": {
    "name": "ipython",
    "version": 3
   },
   "file_extension": ".py",
   "mimetype": "text/x-python",
   "name": "python",
   "nbconvert_exporter": "python",
   "pygments_lexer": "ipython3",
   "version": "3.4.3"
  }
 },
 "nbformat": 4,
 "nbformat_minor": 0
}
