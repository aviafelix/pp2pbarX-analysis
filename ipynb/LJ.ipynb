{
 "cells": [
  {
   "cell_type": "markdown",
   "metadata": {},
   "source": [
    "See: [https://github.com/daniilr/python-lj/blob/master/lj/lj.py](https://github.com/daniilr/python-lj/blob/master/lj/lj.py)"
   ]
  },
  {
   "cell_type": "code",
   "execution_count": 10,
   "metadata": {
    "collapsed": false
   },
   "outputs": [],
   "source": [
    "import base64\n",
    "\n",
    "_p = base64.b85decode('********************'.encode('utf-8')).decode('utf-8')\n",
    "_u = 'palirhizolik'"
   ]
  },
  {
   "cell_type": "code",
   "execution_count": null,
   "metadata": {
    "collapsed": false
   },
   "outputs": [],
   "source": [
    "from lj import lj\n",
    "ljclient = lj.LJServer('Python-Blog3/1.0', \"http://daniil-r.ru/bots.html; i@daniil-r.ru\")\n",
    "_tmp = ljclient.login(_u, _p)"
   ]
  },
  {
   "cell_type": "code",
   "execution_count": 20,
   "metadata": {
    "collapsed": false
   },
   "outputs": [
    {
     "data": {
      "text/plain": [
       "'«Не люблю защиты. Хожу только на похороны. Только там  не спрашивают: «А ты когда?!»<img src=\"http://wap.mine.nu/pstat.gif\" />'"
      ]
     },
     "execution_count": 20,
     "metadata": {},
     "output_type": "execute_result"
    }
   ],
   "source": [
    "ljclient.getevents_one()['events'][0]['event'].data.decode('utf-8')"
   ]
  },
  {
   "cell_type": "code",
   "execution_count": 21,
   "metadata": {
    "collapsed": false
   },
   "outputs": [
    {
     "data": {
      "text/plain": [
       "'«Не люблю защиты. Хожу только на похороны. Только там  не спрашивают: «А ты когда?!»<img src=\"http://wap.mine.nu/pstat.gif\" />'"
      ]
     },
     "execution_count": 21,
     "metadata": {},
     "output_type": "execute_result"
    }
   ],
   "source": [
    "ljclient.getevents_one()['events'][0]['event'].data.decode('utf-8')"
   ]
  }
 ],
 "metadata": {
  "kernelspec": {
   "display_name": "Python 3",
   "language": "python",
   "name": "python3"
  },
  "language_info": {
   "codemirror_mode": {
    "name": "ipython",
    "version": 3
   },
   "file_extension": ".py",
   "mimetype": "text/x-python",
   "name": "python",
   "nbconvert_exporter": "python",
   "pygments_lexer": "ipython3",
   "version": "3.4.3"
  }
 },
 "nbformat": 4,
 "nbformat_minor": 0
}
