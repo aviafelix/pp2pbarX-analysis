{
 "cells": [
  {
   "cell_type": "code",
   "execution_count": 11,
   "metadata": {
    "collapsed": false
   },
   "outputs": [
    {
     "data": {
      "image/svg+xml": [
       "<svg height=\"480\" viewBox=\"0 0 600 480\" width=\"600\" xmlns=\"http://www.w3.org/2000/svg\" xmlns:xlink=\"http://www.w3.org/1999/xlink\">\n",
       "<desc>Produced by GNUPLOT 4.2 patchlevel 6  </desc>\n",
       "\n",
       "<defs>\n",
       "\n",
       "\t<circle id=\"gpDot\" r=\"0.5\" stroke-width=\"0.5\"/>\n",
       "\t<path d=\"M-1,0 h2 M0,-1 v2\" id=\"gpPt0\" stroke=\"currentColor\" stroke-width=\"0.222\"/>\n",
       "\t<path d=\"M-1,-1 L1,1 M1,-1 L-1,1\" id=\"gpPt1\" stroke=\"currentColor\" stroke-width=\"0.222\"/>\n",
       "\t<path d=\"M-1,0 L1,0 M0,-1 L0,1 M-1,-1 L1,1 M-1,1 L1,-1\" id=\"gpPt2\" stroke=\"currentColor\" stroke-width=\"0.222\"/>\n",
       "\t<rect height=\"2\" id=\"gpPt3\" stroke=\"currentColor\" stroke-width=\"0.222\" width=\"2\" x=\"-1\" y=\"-1\"/>\n",
       "\t<rect fill=\"currentColor\" height=\"2\" id=\"gpPt4\" stroke=\"currentColor\" stroke-width=\"0.222\" width=\"2\" x=\"-1\" y=\"-1\"/>\n",
       "\t<circle cx=\"0\" cy=\"0\" id=\"gpPt5\" r=\"1\" stroke=\"currentColor\" stroke-width=\"0.222\"/>\n",
       "\t<use fill=\"currentColor\" id=\"gpPt6\" stroke=\"none\" xlink:href=\"#gpPt5\"/>\n",
       "\t<path d=\"M0,-1.33 L-1.33,0.67 L1.33,0.67 z\" id=\"gpPt7\" stroke=\"currentColor\" stroke-width=\"0.222\"/>\n",
       "\t<use fill=\"currentColor\" id=\"gpPt8\" stroke=\"none\" xlink:href=\"#gpPt7\"/>\n",
       "\t<use id=\"gpPt9\" stroke=\"currentColor\" transform=\"rotate(180)\" xlink:href=\"#gpPt7\"/>\n",
       "\t<use fill=\"currentColor\" id=\"gpPt10\" stroke=\"none\" xlink:href=\"#gpPt9\"/>\n",
       "\t<use id=\"gpPt11\" stroke=\"currentColor\" transform=\"rotate(45)\" xlink:href=\"#gpPt3\"/>\n",
       "\t<use fill=\"currentColor\" id=\"gpPt12\" stroke=\"none\" xlink:href=\"#gpPt11\"/>\n",
       "</defs>\n",
       "<g style=\"fill:none; color:white; stroke:currentColor; stroke-width:1.00; stroke-linecap:butt; stroke-linejoin:miter\">\n",
       "</g>\n",
       "<g style=\"fill:none; color:black; stroke:currentColor; stroke-width:1.00; stroke-linecap:butt; stroke-linejoin:miter\">\n",
       "\t<path d=\"M70.5,444.0 L79.5,444.0 M579.2,444.0 L570.2,444.0 \"/>\n",
       "\t<g style=\"stroke:none; fill:black; font-family:Arial; font-size:12.00pt; text-anchor:end\" transform=\"translate(62.2,448.5)\">\n",
       "\t\t<text><tspan>-1</tspan>\n",
       "\t\t</text>\n",
       "\t</g>\n",
       "\t<path d=\"M70.5,401.3 L79.5,401.3 M579.2,401.3 L570.2,401.3 \"/>\n",
       "\t<g style=\"stroke:none; fill:black; font-family:Arial; font-size:12.00pt; text-anchor:end\" transform=\"translate(62.2,405.8)\">\n",
       "\t\t<text><tspan>-0.8</tspan>\n",
       "\t\t</text>\n",
       "\t</g>\n",
       "\t<path d=\"M70.5,358.5 L79.5,358.5 M579.2,358.5 L570.2,358.5 \"/>\n",
       "\t<g style=\"stroke:none; fill:black; font-family:Arial; font-size:12.00pt; text-anchor:end\" transform=\"translate(62.2,363.0)\">\n",
       "\t\t<text><tspan>-0.6</tspan>\n",
       "\t\t</text>\n",
       "\t</g>\n",
       "\t<path d=\"M70.5,315.8 L79.5,315.8 M579.2,315.8 L570.2,315.8 \"/>\n",
       "\t<g style=\"stroke:none; fill:black; font-family:Arial; font-size:12.00pt; text-anchor:end\" transform=\"translate(62.2,320.3)\">\n",
       "\t\t<text><tspan>-0.4</tspan>\n",
       "\t\t</text>\n",
       "\t</g>\n",
       "\t<path d=\"M70.5,273.0 L79.5,273.0 M579.2,273.0 L570.2,273.0 \"/>\n",
       "\t<g style=\"stroke:none; fill:black; font-family:Arial; font-size:12.00pt; text-anchor:end\" transform=\"translate(62.2,277.5)\">\n",
       "\t\t<text><tspan>-0.2</tspan>\n",
       "\t\t</text>\n",
       "\t</g>\n",
       "\t<path d=\"M70.5,230.3 L79.5,230.3 M579.2,230.3 L570.2,230.3 \"/>\n",
       "\t<g style=\"stroke:none; fill:black; font-family:Arial; font-size:12.00pt; text-anchor:end\" transform=\"translate(62.2,234.8)\">\n",
       "\t\t<text><tspan> 0</tspan>\n",
       "\t\t</text>\n",
       "\t</g>\n",
       "\t<path d=\"M70.5,187.6 L79.5,187.6 M579.2,187.6 L570.2,187.6 \"/>\n",
       "\t<g style=\"stroke:none; fill:black; font-family:Arial; font-size:12.00pt; text-anchor:end\" transform=\"translate(62.2,192.1)\">\n",
       "\t\t<text><tspan> 0.2</tspan>\n",
       "\t\t</text>\n",
       "\t</g>\n",
       "\t<path d=\"M70.5,144.8 L79.5,144.8 M579.2,144.8 L570.2,144.8 \"/>\n",
       "\t<g style=\"stroke:none; fill:black; font-family:Arial; font-size:12.00pt; text-anchor:end\" transform=\"translate(62.2,149.3)\">\n",
       "\t\t<text><tspan> 0.4</tspan>\n",
       "\t\t</text>\n",
       "\t</g>\n",
       "\t<path d=\"M70.5,102.1 L79.5,102.1 M579.2,102.1 L570.2,102.1 \"/>\n",
       "\t<g style=\"stroke:none; fill:black; font-family:Arial; font-size:12.00pt; text-anchor:end\" transform=\"translate(62.2,106.6)\">\n",
       "\t\t<text><tspan> 0.6</tspan>\n",
       "\t\t</text>\n",
       "\t</g>\n",
       "\t<path d=\"M70.5,59.3 L79.5,59.3 M579.2,59.3 L570.2,59.3 \"/>\n",
       "\t<g style=\"stroke:none; fill:black; font-family:Arial; font-size:12.00pt; text-anchor:end\" transform=\"translate(62.2,63.8)\">\n",
       "\t\t<text><tspan> 0.8</tspan>\n",
       "\t\t</text>\n",
       "\t</g>\n",
       "\t<path d=\"M70.5,16.6 L79.5,16.6 M579.2,16.6 L570.2,16.6 \"/>\n",
       "\t<g style=\"stroke:none; fill:black; font-family:Arial; font-size:12.00pt; text-anchor:end\" transform=\"translate(62.2,21.1)\">\n",
       "\t\t<text><tspan> 1</tspan>\n",
       "\t\t</text>\n",
       "\t</g>\n",
       "\t<path d=\"M70.5,444.0 L70.5,435.0 M70.5,16.6 L70.5,25.6 \"/>\n",
       "\t<g style=\"stroke:none; fill:black; font-family:Arial; font-size:12.00pt; text-anchor:middle\" transform=\"translate(70.5,466.5)\">\n",
       "\t\t<text><tspan>-10</tspan>\n",
       "\t\t</text>\n",
       "\t</g>\n",
       "\t<path d=\"M197.7,444.0 L197.7,435.0 M197.7,16.6 L197.7,25.6 \"/>\n",
       "\t<g style=\"stroke:none; fill:black; font-family:Arial; font-size:12.00pt; text-anchor:middle\" transform=\"translate(197.7,466.5)\">\n",
       "\t\t<text><tspan>-5</tspan>\n",
       "\t\t</text>\n",
       "\t</g>\n",
       "\t<path d=\"M324.9,444.0 L324.9,435.0 M324.9,16.6 L324.9,25.6 \"/>\n",
       "\t<g style=\"stroke:none; fill:black; font-family:Arial; font-size:12.00pt; text-anchor:middle\" transform=\"translate(324.9,466.5)\">\n",
       "\t\t<text><tspan> 0</tspan>\n",
       "\t\t</text>\n",
       "\t</g>\n",
       "\t<path d=\"M452.0,444.0 L452.0,435.0 M452.0,16.6 L452.0,25.6 \"/>\n",
       "\t<g style=\"stroke:none; fill:black; font-family:Arial; font-size:12.00pt; text-anchor:middle\" transform=\"translate(452.0,466.5)\">\n",
       "\t\t<text><tspan> 5</tspan>\n",
       "\t\t</text>\n",
       "\t</g>\n",
       "\t<path d=\"M579.2,444.0 L579.2,435.0 M579.2,16.6 L579.2,25.6 \"/>\n",
       "\t<g style=\"stroke:none; fill:black; font-family:Arial; font-size:12.00pt; text-anchor:middle\" transform=\"translate(579.2,466.5)\">\n",
       "\t\t<text><tspan> 10</tspan>\n",
       "\t\t</text>\n",
       "\t</g>\n",
       "\t<path d=\"M70.5,16.6 L70.5,444.0 L579.2,444.0 L579.2,16.6 L70.5,16.6 Z \"/>\n",
       "</g>\n",
       "<g style=\"fill:none; color:red; stroke:currentColor; stroke-width:1.00; stroke-linecap:butt; stroke-linejoin:miter\">\n",
       "</g>\n",
       "<g style=\"fill:none; color:black; stroke:currentColor; stroke-width:1.00; stroke-linecap:butt; stroke-linejoin:miter\">\n",
       "\t<g style=\"stroke:none; fill:black; font-family:Arial; font-size:12.00pt; text-anchor:end\" transform=\"translate(512.1,39.1)\">\n",
       "\t\t<text>g(x)</text>\n",
       "\t</g>\n",
       "</g>\n",
       "<g style=\"fill:none; color:red; stroke:currentColor; stroke-width:1.00; stroke-linecap:butt; stroke-linejoin:miter\">\n",
       "\t<path d=\"M520.4,34.6 L562.6,34.6 M70.5,409.6 L75.6,429.3 L80.8,440.9 L85.9,443.9 L91.1,438.2 L96.2,424.1    L101.3,402.1 L106.5,373.1 L111.6,338.3 L116.7,299.1 L121.9,257.1 L127.0,214.0 L132.2,171.6 L137.3,131.6    L142.4,95.6 L147.6,65.0 L152.7,41.2 L157.9,25.1 L163.0,17.3 L168.1,18.2 L173.3,27.7 L178.4,45.4    L183.5,70.7 L188.7,102.5 L193.8,139.4 L199.0,180.1 L204.1,222.8 L209.2,265.8 L214.4,307.4 L219.5,345.8    L224.7,379.5 L229.8,407.2 L234.9,427.6 L240.1,440.1 L245.2,444.0 L250.3,439.2 L255.5,425.9 L260.6,404.7    L265.8,376.3 L270.9,342.1 L276.0,303.3 L281.2,261.5 L286.3,218.4 L291.5,175.8 L296.6,135.5 L301.7,99.0    L306.9,67.8 L312.0,43.3 L317.1,26.3 L322.3,17.7 L327.4,17.7 L332.6,26.3 L337.7,43.3 L342.8,67.8    L348.0,99.0 L353.1,135.5 L358.2,175.8 L363.4,218.4 L368.5,261.5 L373.7,303.3 L378.8,342.1 L383.9,376.3    L389.1,404.7 L394.2,425.9 L399.4,439.2 L404.5,444.0 L409.6,440.1 L414.8,427.6 L419.9,407.2 L425.0,379.5    L430.2,345.8 L435.3,307.4 L440.5,265.8 L445.6,222.8 L450.7,180.1 L455.9,139.4 L461.0,102.5 L466.2,70.7    L471.3,45.4 L476.4,27.7 L481.6,18.2 L486.7,17.3 L491.8,25.1 L497.0,41.2 L502.1,65.0 L507.3,95.6    L512.4,131.6 L517.5,171.6 L522.7,214.0 L527.8,257.1 L533.0,299.1 L538.1,338.3 L543.2,373.1 L548.4,402.1    L553.5,424.1 L558.6,438.2 L563.8,443.9 L568.9,440.9 L574.1,429.3 L579.2,409.6 \"/>\n",
       "</g>\n",
       "<g style=\"fill:none; color:green; stroke:currentColor; stroke-width:1.00; stroke-linecap:butt; stroke-linejoin:miter\">\n",
       "</g>\n",
       "<g style=\"fill:none; color:black; stroke:currentColor; stroke-width:1.00; stroke-linecap:butt; stroke-linejoin:miter\">\n",
       "\t<g style=\"stroke:none; fill:black; font-family:Arial; font-size:12.00pt; text-anchor:end\" transform=\"translate(512.1,57.1)\">\n",
       "\t\t<text>g(x)</text>\n",
       "\t</g>\n",
       "</g>\n",
       "<g style=\"fill:none; color:green; stroke:currentColor; stroke-width:1.00; stroke-linecap:butt; stroke-linejoin:miter\">\n",
       "\t<path d=\"M520.4,52.6 L562.6,52.6 M70.5,186.7 L75.6,151.9 L80.8,129.7 L85.9,123.7 L91.1,134.8 L96.2,161.4    L101.3,199.0 L106.5,241.7 L111.6,282.6 L116.7,315.0 L121.9,333.8 L127.0,335.9 L132.2,321.0 L137.3,291.5    L142.4,252.2 L147.6,209.3 L152.7,169.8 L157.9,140.1 L163.0,124.8 L168.1,126.6 L173.3,145.1 L178.4,177.2    L183.5,218.0 L188.7,260.7 L193.8,298.5 L199.0,325.4 L204.1,336.9 L209.2,331.2 L214.4,309.4 L219.5,274.7    L224.7,233.0 L229.8,190.7 L234.9,154.9 L240.1,131.2 L245.2,123.5 L250.3,132.9 L255.5,158.1 L260.6,194.9    L265.8,237.3 L270.9,278.7 L276.0,312.2 L281.2,332.6 L286.3,336.5 L291.5,323.3 L296.6,295.1 L301.7,256.5    L306.9,213.6 L312.0,173.5 L317.1,142.5 L322.3,125.6 L327.4,125.6 L332.6,142.5 L337.7,173.5 L342.8,213.6    L348.0,256.5 L353.1,295.1 L358.2,323.3 L363.4,336.5 L368.5,332.6 L373.7,312.2 L378.8,278.7 L383.9,237.3    L389.1,194.9 L394.2,158.1 L399.4,132.9 L404.5,123.5 L409.6,131.2 L414.8,154.9 L419.9,190.7 L425.0,233.0    L430.2,274.7 L435.3,309.4 L440.5,331.2 L445.6,336.9 L450.7,325.4 L455.9,298.5 L461.0,260.7 L466.2,218.0    L471.3,177.2 L476.4,145.1 L481.6,126.6 L486.7,124.8 L491.8,140.1 L497.0,169.8 L502.1,209.3 L507.3,252.2    L512.4,291.5 L517.5,321.0 L522.7,335.9 L527.8,333.8 L533.0,315.0 L538.1,282.6 L543.2,241.7 L548.4,199.0    L553.5,161.4 L558.6,134.8 L563.8,123.7 L568.9,129.7 L574.1,151.9 L579.2,186.7 \"/>\n",
       "</g>\n",
       "<g style=\"fill:none; color:black; stroke:currentColor; stroke-width:1.00; stroke-linecap:butt; stroke-linejoin:miter\">\n",
       "\t<path d=\"M70.5,16.6 L70.5,444.0 L579.2,444.0 L579.2,16.6 L70.5,16.6 Z \"/>\n",
       "</g>\n",
       "</svg>"
      ],
      "text/plain": [
       "<IPython.core.display.SVG object>"
      ]
     },
     "metadata": {},
     "output_type": "display_data"
    }
   ],
   "source": [
    "g(x) = cos(a*x)/a\n",
    "plot a=1, g(x), \\\n",
    "     a=2, g(x)"
   ]
  },
  {
   "cell_type": "code",
   "execution_count": 2,
   "metadata": {
    "collapsed": false
   },
   "outputs": [
    {
     "data": {
      "text/plain": [
       "-0.916521547915634\n"
      ]
     },
     "execution_count": 2,
     "metadata": {},
     "output_type": "execute_result"
    }
   ],
   "source": [
    "print sin(42)"
   ]
  },
  {
   "cell_type": "code",
   "execution_count": 13,
   "metadata": {
    "collapsed": false
   },
   "outputs": [],
   "source": [
    "%gnuplot qt size 600,400"
   ]
  },
  {
   "cell_type": "code",
   "execution_count": 14,
   "metadata": {
    "collapsed": false
   },
   "outputs": [
    {
     "name": "stderr",
     "output_type": "stream",
     "text": [
      "Error in calling magic 'gnuplot' on line:\n",
      "    set terminal pngcairo size 385, 256 font \"Arial,10\"\n",
      "             ^\n",
      "unknown or ambiguous terminal type; type just 'set terminal' for a list\n",
      "\n",
      "\n",
      "    args: ['inline']\n",
      "    kwargs: {}\n",
      "Traceback (most recent call last):\n",
      "  File \"/home1/okrugin/.local/lib/python3.4/site-packages/metakernel/magic.py\", line 81, in call_magic\n",
      "    func(*args, **kwargs)\n",
      "  File \"/home1/okrugin/.local/lib/python3.4/site-packages/gnuplot_kernel/magics/gnuplot_magic.py\", line 65, in line_gnuplot\n",
      "    self.kernel.handle_plot_settings()\n",
      "  File \"/home1/okrugin/.local/lib/python3.4/site-packages/gnuplot_kernel/kernel.py\", line 280, in handle_plot_settings\n",
      "    super(GnuplotKernel, self).do_execute_direct(cmd)\n",
      "  File \"/home1/okrugin/.local/lib/python3.4/site-packages/metakernel/process_metakernel.py\", line 77, in do_execute_direct\n",
      "    stream_handler=stream_handler)\n",
      "  File \"/home1/okrugin/.local/lib/python3.4/site-packages/gnuplot_kernel/replwrap.py\", line 116, in run_command\n",
      "    raise GnuplotError(msg)\n",
      "gnuplot_kernel.exceptions.GnuplotError: set terminal pngcairo size 385, 256 font \"Arial,10\"\n",
      "             ^\n",
      "unknown or ambiguous terminal type; type just 'set terminal' for a list\n",
      "\n",
      "\n",
      "\n",
      "%gnuplot CODE - evaluate code as gnuplot\n",
      "\n",
      "This line magic will evaluate the CODE to setup or\n",
      "unset inline plots. This magic should be used instead\n",
      "of the plot magic\n",
      "\n",
      "Examples:\n",
      "    %gnuplot inline pngcairo enhanced transparent size 560,420\n",
      "    %gnuplot inline svg enhanced size 560,420 fixed\n",
      "    %gnuplot inline jpeg enhanced nointerlace\n",
      "    %gnuplot qt\n"
     ]
    }
   ],
   "source": [
    "%gnuplot inline"
   ]
  },
  {
   "cell_type": "code",
   "execution_count": 20,
   "metadata": {
    "collapsed": true
   },
   "outputs": [],
   "source": [
    "%gnuplot inline svg enhanced background rgb \"#F5DA81\""
   ]
  },
  {
   "cell_type": "code",
   "execution_count": 21,
   "metadata": {
    "collapsed": false
   },
   "outputs": [
    {
     "data": {
      "image/svg+xml": [
       "<svg height=\"480\" viewBox=\"0 0 600 480\" width=\"600\" xmlns=\"http://www.w3.org/2000/svg\" xmlns:xlink=\"http://www.w3.org/1999/xlink\">\n",
       "<desc>Produced by GNUPLOT 4.2 patchlevel 6  </desc>\n",
       "\n",
       "<defs>\n",
       "\n",
       "\t<circle id=\"gpDot\" r=\"0.5\" stroke-width=\"0.5\"/>\n",
       "\t<path d=\"M-1,0 h2 M0,-1 v2\" id=\"gpPt0\" stroke=\"currentColor\" stroke-width=\"0.222\"/>\n",
       "\t<path d=\"M-1,-1 L1,1 M1,-1 L-1,1\" id=\"gpPt1\" stroke=\"currentColor\" stroke-width=\"0.222\"/>\n",
       "\t<path d=\"M-1,0 L1,0 M0,-1 L0,1 M-1,-1 L1,1 M-1,1 L1,-1\" id=\"gpPt2\" stroke=\"currentColor\" stroke-width=\"0.222\"/>\n",
       "\t<rect height=\"2\" id=\"gpPt3\" stroke=\"currentColor\" stroke-width=\"0.222\" width=\"2\" x=\"-1\" y=\"-1\"/>\n",
       "\t<rect fill=\"currentColor\" height=\"2\" id=\"gpPt4\" stroke=\"currentColor\" stroke-width=\"0.222\" width=\"2\" x=\"-1\" y=\"-1\"/>\n",
       "\t<circle cx=\"0\" cy=\"0\" id=\"gpPt5\" r=\"1\" stroke=\"currentColor\" stroke-width=\"0.222\"/>\n",
       "\t<use fill=\"currentColor\" id=\"gpPt6\" stroke=\"none\" xlink:href=\"#gpPt5\"/>\n",
       "\t<path d=\"M0,-1.33 L-1.33,0.67 L1.33,0.67 z\" id=\"gpPt7\" stroke=\"currentColor\" stroke-width=\"0.222\"/>\n",
       "\t<use fill=\"currentColor\" id=\"gpPt8\" stroke=\"none\" xlink:href=\"#gpPt7\"/>\n",
       "\t<use id=\"gpPt9\" stroke=\"currentColor\" transform=\"rotate(180)\" xlink:href=\"#gpPt7\"/>\n",
       "\t<use fill=\"currentColor\" id=\"gpPt10\" stroke=\"none\" xlink:href=\"#gpPt9\"/>\n",
       "\t<use id=\"gpPt11\" stroke=\"currentColor\" transform=\"rotate(45)\" xlink:href=\"#gpPt3\"/>\n",
       "\t<use fill=\"currentColor\" id=\"gpPt12\" stroke=\"none\" xlink:href=\"#gpPt11\"/>\n",
       "</defs>\n",
       "<g style=\"fill:none; color:white; stroke:currentColor; stroke-width:1.00; stroke-linecap:butt; stroke-linejoin:miter\">\n",
       "</g>\n",
       "<g style=\"fill:none; color:black; stroke:currentColor; stroke-width:1.00; stroke-linecap:butt; stroke-linejoin:miter\">\n",
       "\t<path d=\"M70.5,444.0 L79.5,444.0 M579.2,444.0 L570.2,444.0 \"/>\n",
       "\t<g style=\"stroke:none; fill:black; font-family:Arial; font-size:12.00pt; text-anchor:end\" transform=\"translate(62.2,448.5)\">\n",
       "\t\t<text><tspan>-1</tspan>\n",
       "\t\t</text>\n",
       "\t</g>\n",
       "\t<path d=\"M70.5,401.3 L79.5,401.3 M579.2,401.3 L570.2,401.3 \"/>\n",
       "\t<g style=\"stroke:none; fill:black; font-family:Arial; font-size:12.00pt; text-anchor:end\" transform=\"translate(62.2,405.8)\">\n",
       "\t\t<text><tspan>-0.8</tspan>\n",
       "\t\t</text>\n",
       "\t</g>\n",
       "\t<path d=\"M70.5,358.5 L79.5,358.5 M579.2,358.5 L570.2,358.5 \"/>\n",
       "\t<g style=\"stroke:none; fill:black; font-family:Arial; font-size:12.00pt; text-anchor:end\" transform=\"translate(62.2,363.0)\">\n",
       "\t\t<text><tspan>-0.6</tspan>\n",
       "\t\t</text>\n",
       "\t</g>\n",
       "\t<path d=\"M70.5,315.8 L79.5,315.8 M579.2,315.8 L570.2,315.8 \"/>\n",
       "\t<g style=\"stroke:none; fill:black; font-family:Arial; font-size:12.00pt; text-anchor:end\" transform=\"translate(62.2,320.3)\">\n",
       "\t\t<text><tspan>-0.4</tspan>\n",
       "\t\t</text>\n",
       "\t</g>\n",
       "\t<path d=\"M70.5,273.0 L79.5,273.0 M579.2,273.0 L570.2,273.0 \"/>\n",
       "\t<g style=\"stroke:none; fill:black; font-family:Arial; font-size:12.00pt; text-anchor:end\" transform=\"translate(62.2,277.5)\">\n",
       "\t\t<text><tspan>-0.2</tspan>\n",
       "\t\t</text>\n",
       "\t</g>\n",
       "\t<path d=\"M70.5,230.3 L79.5,230.3 M579.2,230.3 L570.2,230.3 \"/>\n",
       "\t<g style=\"stroke:none; fill:black; font-family:Arial; font-size:12.00pt; text-anchor:end\" transform=\"translate(62.2,234.8)\">\n",
       "\t\t<text><tspan> 0</tspan>\n",
       "\t\t</text>\n",
       "\t</g>\n",
       "\t<path d=\"M70.5,187.6 L79.5,187.6 M579.2,187.6 L570.2,187.6 \"/>\n",
       "\t<g style=\"stroke:none; fill:black; font-family:Arial; font-size:12.00pt; text-anchor:end\" transform=\"translate(62.2,192.1)\">\n",
       "\t\t<text><tspan> 0.2</tspan>\n",
       "\t\t</text>\n",
       "\t</g>\n",
       "\t<path d=\"M70.5,144.8 L79.5,144.8 M579.2,144.8 L570.2,144.8 \"/>\n",
       "\t<g style=\"stroke:none; fill:black; font-family:Arial; font-size:12.00pt; text-anchor:end\" transform=\"translate(62.2,149.3)\">\n",
       "\t\t<text><tspan> 0.4</tspan>\n",
       "\t\t</text>\n",
       "\t</g>\n",
       "\t<path d=\"M70.5,102.1 L79.5,102.1 M579.2,102.1 L570.2,102.1 \"/>\n",
       "\t<g style=\"stroke:none; fill:black; font-family:Arial; font-size:12.00pt; text-anchor:end\" transform=\"translate(62.2,106.6)\">\n",
       "\t\t<text><tspan> 0.6</tspan>\n",
       "\t\t</text>\n",
       "\t</g>\n",
       "\t<path d=\"M70.5,59.3 L79.5,59.3 M579.2,59.3 L570.2,59.3 \"/>\n",
       "\t<g style=\"stroke:none; fill:black; font-family:Arial; font-size:12.00pt; text-anchor:end\" transform=\"translate(62.2,63.8)\">\n",
       "\t\t<text><tspan> 0.8</tspan>\n",
       "\t\t</text>\n",
       "\t</g>\n",
       "\t<path d=\"M70.5,16.6 L79.5,16.6 M579.2,16.6 L570.2,16.6 \"/>\n",
       "\t<g style=\"stroke:none; fill:black; font-family:Arial; font-size:12.00pt; text-anchor:end\" transform=\"translate(62.2,21.1)\">\n",
       "\t\t<text><tspan> 1</tspan>\n",
       "\t\t</text>\n",
       "\t</g>\n",
       "\t<path d=\"M70.5,444.0 L70.5,435.0 M70.5,16.6 L70.5,25.6 \"/>\n",
       "\t<g style=\"stroke:none; fill:black; font-family:Arial; font-size:12.00pt; text-anchor:middle\" transform=\"translate(70.5,466.5)\">\n",
       "\t\t<text><tspan>-10</tspan>\n",
       "\t\t</text>\n",
       "\t</g>\n",
       "\t<path d=\"M197.7,444.0 L197.7,435.0 M197.7,16.6 L197.7,25.6 \"/>\n",
       "\t<g style=\"stroke:none; fill:black; font-family:Arial; font-size:12.00pt; text-anchor:middle\" transform=\"translate(197.7,466.5)\">\n",
       "\t\t<text><tspan>-5</tspan>\n",
       "\t\t</text>\n",
       "\t</g>\n",
       "\t<path d=\"M324.9,444.0 L324.9,435.0 M324.9,16.6 L324.9,25.6 \"/>\n",
       "\t<g style=\"stroke:none; fill:black; font-family:Arial; font-size:12.00pt; text-anchor:middle\" transform=\"translate(324.9,466.5)\">\n",
       "\t\t<text><tspan> 0</tspan>\n",
       "\t\t</text>\n",
       "\t</g>\n",
       "\t<path d=\"M452.0,444.0 L452.0,435.0 M452.0,16.6 L452.0,25.6 \"/>\n",
       "\t<g style=\"stroke:none; fill:black; font-family:Arial; font-size:12.00pt; text-anchor:middle\" transform=\"translate(452.0,466.5)\">\n",
       "\t\t<text><tspan> 5</tspan>\n",
       "\t\t</text>\n",
       "\t</g>\n",
       "\t<path d=\"M579.2,444.0 L579.2,435.0 M579.2,16.6 L579.2,25.6 \"/>\n",
       "\t<g style=\"stroke:none; fill:black; font-family:Arial; font-size:12.00pt; text-anchor:middle\" transform=\"translate(579.2,466.5)\">\n",
       "\t\t<text><tspan> 10</tspan>\n",
       "\t\t</text>\n",
       "\t</g>\n",
       "\t<path d=\"M70.5,16.6 L70.5,444.0 L579.2,444.0 L579.2,16.6 L70.5,16.6 Z \"/>\n",
       "</g>\n",
       "<g style=\"fill:none; color:red; stroke:currentColor; stroke-width:1.00; stroke-linecap:butt; stroke-linejoin:miter\">\n",
       "</g>\n",
       "<g style=\"fill:none; color:black; stroke:currentColor; stroke-width:1.00; stroke-linecap:butt; stroke-linejoin:miter\">\n",
       "\t<g style=\"stroke:none; fill:black; font-family:Arial; font-size:12.00pt; text-anchor:end\" transform=\"translate(512.1,39.1)\">\n",
       "\t\t<text>cos(x)</text>\n",
       "\t</g>\n",
       "</g>\n",
       "<g style=\"fill:none; color:red; stroke:currentColor; stroke-width:1.00; stroke-linecap:butt; stroke-linejoin:miter\">\n",
       "\t<path d=\"M520.4,34.6 L562.6,34.6 M70.5,409.6 L75.6,429.3 L80.8,440.9 L85.9,443.9 L91.1,438.2 L96.2,424.1    L101.3,402.1 L106.5,373.1 L111.6,338.3 L116.7,299.1 L121.9,257.1 L127.0,214.0 L132.2,171.6 L137.3,131.6    L142.4,95.6 L147.6,65.0 L152.7,41.2 L157.9,25.1 L163.0,17.3 L168.1,18.2 L173.3,27.7 L178.4,45.4    L183.5,70.7 L188.7,102.5 L193.8,139.4 L199.0,180.1 L204.1,222.8 L209.2,265.8 L214.4,307.4 L219.5,345.8    L224.7,379.5 L229.8,407.2 L234.9,427.6 L240.1,440.1 L245.2,444.0 L250.3,439.2 L255.5,425.9 L260.6,404.7    L265.8,376.3 L270.9,342.1 L276.0,303.3 L281.2,261.5 L286.3,218.4 L291.5,175.8 L296.6,135.5 L301.7,99.0    L306.9,67.8 L312.0,43.3 L317.1,26.3 L322.3,17.7 L327.4,17.7 L332.6,26.3 L337.7,43.3 L342.8,67.8    L348.0,99.0 L353.1,135.5 L358.2,175.8 L363.4,218.4 L368.5,261.5 L373.7,303.3 L378.8,342.1 L383.9,376.3    L389.1,404.7 L394.2,425.9 L399.4,439.2 L404.5,444.0 L409.6,440.1 L414.8,427.6 L419.9,407.2 L425.0,379.5    L430.2,345.8 L435.3,307.4 L440.5,265.8 L445.6,222.8 L450.7,180.1 L455.9,139.4 L461.0,102.5 L466.2,70.7    L471.3,45.4 L476.4,27.7 L481.6,18.2 L486.7,17.3 L491.8,25.1 L497.0,41.2 L502.1,65.0 L507.3,95.6    L512.4,131.6 L517.5,171.6 L522.7,214.0 L527.8,257.1 L533.0,299.1 L538.1,338.3 L543.2,373.1 L548.4,402.1    L553.5,424.1 L558.6,438.2 L563.8,443.9 L568.9,440.9 L574.1,429.3 L579.2,409.6 \"/>\n",
       "</g>\n",
       "<g style=\"fill:none; color:black; stroke:currentColor; stroke-width:1.00; stroke-linecap:butt; stroke-linejoin:miter\">\n",
       "\t<path d=\"M70.5,16.6 L70.5,444.0 L579.2,444.0 L579.2,16.6 L70.5,16.6 Z \"/>\n",
       "</g>\n",
       "</svg>"
      ],
      "text/plain": [
       "<IPython.core.display.SVG object>"
      ]
     },
     "metadata": {},
     "output_type": "display_data"
    }
   ],
   "source": [
    "plot cos(x)"
   ]
  },
  {
   "cell_type": "code",
   "execution_count": 22,
   "metadata": {
    "collapsed": false
   },
   "outputs": [
    {
     "data": {
      "text/plain": [
       "splot [-2:2][-2:2] sample     [h=1:5]   '+' using (cos(h)):(sin(h)):(h),     [h=5:10]  '+' using (cos(h)):(sin(h)):(h),     [h=10:15] '+' using (cos(h)):(sin(h)):(h)\n",
       "                                ^\n",
       "':' expected\n",
       "\n"
      ]
     },
     "execution_count": 22,
     "metadata": {},
     "output_type": "execute_result"
    }
   ],
   "source": [
    "splot [-2:2][-2:2] sample \\\n",
    "   [h=1:5]   '+' using (cos(h)):(sin(h)):(h), \\\n",
    "   [h=5:10]  '+' using (cos(h)):(sin(h)):(h), \\\n",
    "   [h=10:15] '+' using (cos(h)):(sin(h)):(h)"
   ]
  }
 ],
 "metadata": {
  "kernelspec": {
   "display_name": "gnuplot",
   "language": "gnuplot",
   "name": "gnuplot"
  },
  "language_info": {
   "codemirror_mode": "Octave",
   "file_extension": ".gp",
   "help_links": [
    {
     "text": "MetaKernel Magics",
     "url": "https://github.com/calysto/metakernel/blob/master/metakernel/magics/README.md"
    }
   ],
   "mimetype": "text/x-gnuplot",
   "name": "gnuplot"
  }
 },
 "nbformat": 4,
 "nbformat_minor": 0
}
