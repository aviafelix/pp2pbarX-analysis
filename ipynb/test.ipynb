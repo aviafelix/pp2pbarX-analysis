{
 "cells": [
  {
   "cell_type": "code",
   "execution_count": 2,
   "metadata": {
    "collapsed": false,
    "raw_mimetype": "text/latex"
   },
   "outputs": [],
   "source": [
    "import os\n",
    "def cls():\n",
    "    c = os.system('clear')\n",
    "cls()"
   ]
  },
  {
   "cell_type": "code",
   "execution_count": 3,
   "metadata": {
    "collapsed": true
   },
   "outputs": [],
   "source": [
    "# Import the necessary libraries\n",
    "import numpy as np"
   ]
  },
  {
   "cell_type": "code",
   "execution_count": null,
   "metadata": {
    "collapsed": true
   },
   "outputs": [],
   "source": [
    "LG = np.array([2, 3])  # (Numpy 1D array with 2 elements)\n",
    "Pl = np.array([4, 5])\n",
    "PG = LG + Pl\n",
    "PG"
   ]
  },
  {
   "cell_type": "code",
   "execution_count": 5,
   "metadata": {
    "collapsed": false
   },
   "outputs": [
    {
     "data": {
      "text/plain": [
       "array([[ 6,  8],\n",
       "       [ 8, 10],\n",
       "       [10, 12]])"
      ]
     },
     "execution_count": 5,
     "metadata": {},
     "output_type": "execute_result"
    }
   ],
   "source": [
    "Pl = np.array([[4, 5], [6, 7], [8, 9]])  # 2D array with 3 rows and two columns\n",
    "PG = LG + Pl\n",
    "PG"
   ]
  },
  {
   "cell_type": "code",
   "execution_count": 6,
   "metadata": {
    "collapsed": false
   },
   "outputs": [
    {
     "data": {
      "text/plain": [
       "array([[ 0.    ],\n",
       "       [ 1.4142]])"
      ]
     },
     "execution_count": 6,
     "metadata": {},
     "output_type": "execute_result"
    }
   ],
   "source": [
    "RGl = np.array([[np.cos(np.pi/4), -np.sin(np.pi/4)], [np.sin(np.pi/4), np.cos(np.pi/4)]])\n",
    "Pl  = np.array([[1, 1]]).T  # transpose the array for correct matrix multiplication\n",
    "PG = np.dot(RGl, Pl)        # the function dot() is used for matrix multiplication of arrays\n",
    "np.around(PG, 4)            # round the number due to floating-point arithmetic errors"
   ]
  },
  {
   "cell_type": "code",
   "execution_count": 7,
   "metadata": {
    "collapsed": false
   },
   "outputs": [
    {
     "data": {
      "text/plain": [
       "array([[ 0.    , -0.7071,  0.7071],\n",
       "       [ 1.4142,  0.7071,  0.7071]])"
      ]
     },
     "execution_count": 7,
     "metadata": {},
     "output_type": "execute_result"
    }
   ],
   "source": [
    "Pl  = np.array([[1, 1], [0, 1], [1, 0]]).T  # transpose array for matrix multiplication\n",
    "PG = np.dot(RGl, Pl)  # the function dot() is used for matrix multiplication with arrays\n",
    "np.around(PG, 4)      # round the number due to floating point arithmetic errors"
   ]
  },
  {
   "cell_type": "code",
   "execution_count": 8,
   "metadata": {
    "collapsed": false
   },
   "outputs": [
    {
     "data": {
      "text/plain": [
       "array([[ 0.    , -0.7071,  0.7071],\n",
       "       [ 1.4142,  0.7071,  0.7071]])"
      ]
     },
     "execution_count": 8,
     "metadata": {},
     "output_type": "execute_result"
    }
   ],
   "source": [
    "RGl = np.mat([[np.cos(np.pi/4), -np.sin(np.pi/4)], [np.sin(np.pi/4), np.cos(np.pi/4)]])\n",
    "Pl  = np.mat([[1, 1], [0,1], [1, 0]]).T  # 2x3 matrix\n",
    "PG = RGl*Pl       # matrix multiplication in NumPy\n",
    "np.around(PG, 4)  # round the number due to floating point arithmetic errors"
   ]
  },
  {
   "cell_type": "markdown",
   "metadata": {
    "raw_mimetype": "text/markdown"
   },
   "source": [
    "$$x + 1 = \\frac{x}{2}\\,.$$\n",
    "$$F(k) = \\int_{-\\infty}^{\\infty} f(x) e^{2\\pi i k} dx\\,.$$"
   ]
  },
  {
   "cell_type": "code",
   "execution_count": 10,
   "metadata": {
    "collapsed": false
   },
   "outputs": [
    {
     "data": {
      "text/latex": [
       "$$F(k) = \\int_{-\\infty}^{\\infty} f(x) e^{2\\pi i k} dx$$"
      ],
      "text/plain": [
       "<IPython.core.display.Math object>"
      ]
     },
     "metadata": {},
     "output_type": "display_data"
    }
   ],
   "source": [
    "from IPython.display import display, Math, Latex\n",
    "display(Math(r'F(k) = \\int_{-\\infty}^{\\infty} f(x) e^{2\\pi i k} dx'))"
   ]
  },
  {
   "cell_type": "code",
   "execution_count": 2,
   "metadata": {
    "collapsed": false
   },
   "outputs": [],
   "source": [
    "def f1(testvar):\n",
    "    return 'f1:: {}'.format(testvar)\n",
    "\n",
    "def f2(testvar):\n",
    "    return 'f2:: {}'.format(testvar)\n",
    "\n",
    "def f3(testvar):\n",
    "    return 'f3:: {}'.format(testvar)\n",
    "\n",
    "d = {\n",
    "    'func1': f1,\n",
    "    'func2': f2,\n",
    "    'func3': f3,\n",
    "}"
   ]
  },
  {
   "cell_type": "code",
   "execution_count": 4,
   "metadata": {
    "collapsed": false
   },
   "outputs": [
    {
     "data": {
      "text/plain": [
       "'f3:: Тятя'"
      ]
     },
     "execution_count": 4,
     "metadata": {},
     "output_type": "execute_result"
    }
   ],
   "source": [
    "d['func3'](\"Тятя\")"
   ]
  },
  {
   "cell_type": "code",
   "execution_count": 20,
   "metadata": {
    "collapsed": false
   },
   "outputs": [
    {
     "name": "stdout",
     "output_type": "stream",
     "text": [
      "f1:: g\n",
      "f1:: ggg\n",
      "<function f1 at 0x7fddf8690730>\n"
     ]
    }
   ],
   "source": [
    "print(locals()['f1']('g'))\n",
    "print(locals().get('f1')('ggg'))\n",
    "#print(getattr(locals().get('f1'), 'f1'))('ggg')\n",
    "#print(getattr(locals().get('f1'), 'f1'))\n",
    "print(locals().get('f1'))"
   ]
  },
  {
   "cell_type": "code",
   "execution_count": 1,
   "metadata": {
    "collapsed": true
   },
   "outputs": [],
   "source": [
    "def tf(fn, data='', g=False):\n",
    "    Fa_TYPES = {\n",
    "        'func1': f1,\n",
    "        'func2': f2,\n",
    "        'func3': f3,\n",
    "    }\n",
    "\n",
    "    Fb_TYPES = {\n",
    "        'func1': 'f1',\n",
    "        'func2': 'f2',\n",
    "        'func3': 'f3',\n",
    "    }\n",
    "\n",
    "    if g:\n",
    "        return Fa_TYPES[fn](data)\n",
    "#         return globals().get(Fb_TYPES[fn])(data)\n",
    "    else:\n",
    "        return globals()[Fb_TYPES[fn]](data)\n",
    "\n",
    "def f1(data):\n",
    "    return('a:: {}'.format(data))\n",
    "\n",
    "def f2(data):\n",
    "    return('b:: {}'.format(data))\n",
    "\n",
    "def f3(data):\n",
    "    return('c:: {}'.format(data))\n",
    "\n",
    "def testf():\n",
    "    for q in range (3000000):\n",
    "        h = tf('func1', data=str(q), g=True)"
   ]
  },
  {
   "cell_type": "code",
   "execution_count": 2,
   "metadata": {
    "collapsed": false
   },
   "outputs": [
    {
     "name": "stdout",
     "output_type": "stream",
     "text": [
      "CPU times: user 7.62 s, sys: 56.9 ms, total: 7.68 s\n",
      "Wall time: 7.77 s\n"
     ]
    }
   ],
   "source": [
    "%%time\n",
    "testf()"
   ]
  },
  {
   "cell_type": "code",
   "execution_count": 3,
   "metadata": {
    "collapsed": true
   },
   "outputs": [],
   "source": [
    "import pandas as pd"
   ]
  },
  {
   "cell_type": "code",
   "execution_count": 4,
   "metadata": {
    "collapsed": false
   },
   "outputs": [
    {
     "name": "stdout",
     "output_type": "stream",
     "text": [
      "1000000\n",
      "1000000\n",
      "1000000\n",
      "1000000\n"
     ]
    }
   ],
   "source": [
    "df = pd.Series([(g+1)*(g+2)*(g+3) % 256 for g in range(1000000)])\n",
    "\n",
    "print(len(df))\n",
    "print(len(df.index))\n",
    "print(df.count())\n",
    "print(df.size)"
   ]
  },
  {
   "cell_type": "code",
   "execution_count": 5,
   "metadata": {
    "collapsed": false
   },
   "outputs": [
    {
     "name": "stdout",
     "output_type": "stream",
     "text": [
      "100 loops, best of 3: 7.19 ms per loop\n"
     ]
    }
   ],
   "source": [
    "%%timeit\n",
    "df.count()"
   ]
  },
  {
   "cell_type": "code",
   "execution_count": 31,
   "metadata": {
    "collapsed": true
   },
   "outputs": [],
   "source": [
    "# import math\n",
    "# from math import *\n",
    "cosx = math.cos"
   ]
  },
  {
   "cell_type": "code",
   "execution_count": 38,
   "metadata": {
    "collapsed": false
   },
   "outputs": [
    {
     "name": "stdout",
     "output_type": "stream",
     "text": [
      "10000 loops, best of 3: 42.6 µs per loop\n"
     ]
    }
   ],
   "source": [
    "%%timeit\n",
    "for i in range(100):\n",
    "    h = cosx(1/(i+1.))"
   ]
  }
 ],
 "metadata": {
  "celltoolbar": "Raw Cell Format",
  "kernelspec": {
   "display_name": "Python 3",
   "language": "python",
   "name": "python3"
  },
  "language_info": {
   "codemirror_mode": {
    "name": "ipython",
    "version": 3
   },
   "file_extension": ".py",
   "mimetype": "text/x-python",
   "name": "python",
   "nbconvert_exporter": "python",
   "pygments_lexer": "ipython3",
   "version": "3.4.3"
  }
 },
 "nbformat": 4,
 "nbformat_minor": 0
}
