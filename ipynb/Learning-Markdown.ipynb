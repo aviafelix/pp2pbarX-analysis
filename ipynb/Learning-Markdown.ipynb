{
 "cells": [
  {
   "cell_type": "markdown",
   "metadata": {},
   "source": [
    "# Заголовки"
   ]
  },
  {
   "cell_type": "markdown",
   "metadata": {},
   "source": [
    "# Заголовок первого уровня\n",
    "## Заголовок второго уровня\n",
    "### Заголовок следующего уровня\n",
    "#### Заголовок нижеследующего уровня\n",
    "##### И последующего уровня заголовок\n",
    "###### Уровня самого низкого заголовок"
   ]
  },
  {
   "cell_type": "markdown",
   "metadata": {},
   "source": [
    "В этом тексте будет использовано *выделение курсивом* и **выделение полужирным начертанием**.\n",
    "\n",
    "```C\n",
    "function(int g)\n",
    "```\n",
    "\n",
    "    function(int g)\n",
    "\n",
    "```python\n",
    "def func(ok_arg):\n",
    "    pass\n",
    "```\n",
    "\n",
    "[testtag][testtag]\n",
    "\n",
    "Всё остальное ~~не будет описано~~ будет описано ниже.\n",
    "\n",
    "1. Надо сделать.\n",
    "2. Затем не сделать.\n",
    "3. И после — завершить.\n",
    "\n",
    "Это:\n",
    "- не тяжело;\n",
    "- не трудно;\n",
    "- интересно.\n",
    "\n",
    "Но:\n",
    "+ накладно;\n",
    "+ грустно;\n",
    "+ и печально.\n",
    "\n",
    "Несмотря на это мы:\n",
    "* всё же [работаем][1];\n",
    "* всё же [мы работаем][2];\n",
    "* и работать продолжаем[][3]."
   ]
  },
  {
   "cell_type": "markdown",
   "metadata": {},
   "source": [
    "Ещё один способ указания заголовков первого уровня\n",
    "==================================================\n",
    "\n",
    "И заголовок второго уровня\n",
    "--------------------------\n",
    "\n",
    "> Цитата\n",
    "\n",
    ">Тацита"
   ]
  },
  {
   "cell_type": "markdown",
   "metadata": {},
   "source": [
    "![Пикча](https://cd.qpam.ru/_img/title.png?v.0.11o)"
   ]
  },
  {
   "cell_type": "markdown",
   "metadata": {},
   "source": [
    "----\n",
    "[1]: http://papers.qpam.ru/ &nbsp;\n",
    "\n",
    "[2]: https://cd.qpam.ru/ Паперсы\n",
    "___\n",
    "[3]: https://wiki.qpam.ru/ __Вики__"
   ]
  },
  {
   "cell_type": "markdown",
   "metadata": {},
   "source": [
    "__Что надо сделать__:\n",
    "- [ ] Поднять руку\n",
    "- [x] Почесать затылок\n",
    "- [ ] Опустить руку\n",
    "\n",
    "***\n",
    "#ref\n",
    "---\n",
    "@mention\n",
    "\n",
    "<!--\n",
    "  А это комментарий, ой.\n",
    "-->"
   ]
  },
  {
   "cell_type": "markdown",
   "metadata": {},
   "source": [
    "Aheader | Bheader\n",
    "--------|--------\n",
    "Ctext | Dtext\n",
    "Einfo | Finfo"
   ]
  },
  {
   "cell_type": "markdown",
   "metadata": {},
   "source": [
    "Вот такой забавный **Мардаун**.\n",
    "<p>Оий-хо-хо!</p>"
   ]
  },
  {
   "cell_type": "markdown",
   "metadata": {},
   "source": [
    "> Цитат не цитировал Тацит.\n",
    ">> А цитату не впитает ацетат.\n",
    "\n",
    "1. Впитать.\n",
    "1. Воспитать.\n",
    "1. Выпытать."
   ]
  }
 ],
 "metadata": {
  "kernelspec": {
   "display_name": "Python 3",
   "language": "python",
   "name": "python3"
  },
  "language_info": {
   "codemirror_mode": {
    "name": "ipython",
    "version": 3
   },
   "file_extension": ".py",
   "mimetype": "text/x-python",
   "name": "python",
   "nbconvert_exporter": "python",
   "pygments_lexer": "ipython3",
   "version": "3.4.3"
  }
 },
 "nbformat": 4,
 "nbformat_minor": 0
}
