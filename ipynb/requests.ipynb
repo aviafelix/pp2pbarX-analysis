{
 "cells": [
  {
   "cell_type": "markdown",
   "metadata": {},
   "source": [
    "# Используем модуль 'Requests' в Python"
   ]
  },
  {
   "cell_type": "markdown",
   "metadata": {},
   "source": [
    "### Импортируем модуль:"
   ]
  },
  {
   "cell_type": "code",
   "execution_count": 1,
   "metadata": {
    "collapsed": true
   },
   "outputs": [],
   "source": [
    "import requests"
   ]
  },
  {
   "cell_type": "code",
   "execution_count": 47,
   "metadata": {
    "collapsed": false
   },
   "outputs": [],
   "source": [
    "siteaddr = 'http://www.yarnews.net/comment/signForUpdates/'\n",
    "postformdata = 'email=yarnews76+test%40gmail.com'\n",
    "\n",
    "headers = {\n",
    "    'Host': 'www.yarnews.net',\n",
    "    'Connection': 'keep-alive',\n",
    "    'Content-Length': '{}'.format(len(postformdata)),\n",
    "    'Accept': 'application/json, text/javascript, */*; q=0.01',\n",
    "    'Origin': 'http://www.yarnews.net',\n",
    "    'X-Requested-With': 'XMLHttpRequest',\n",
    "    'User-Agent': 'Mozilla/5.0 (Windows NT 5.1) AppleWebKit/537.36 (KHTML, like Gecko) Chrome/48.0.2564.116 Safari/537.36',\n",
    "    'Content-Type': 'application/x-www-form-urlencoded; charset=UTF-8',\n",
    "    'Referer': 'http://www.yarnews.net/news/show/yaroslavl-region/24165/sluchajnye_poputchiki_obokrali_zhencshinu_kotoraya_ih_podvezla_.htm',\n",
    "    'Accept-Encoding': 'gzip, deflate',\n",
    "    'Accept-Language': 'ru-RU,ru;q=0.8,en-US;q=0.6,en;q=0.4',\n",
    "    'Cookie': 'PHPSESSID=b6mnv3h02dnofq404afq1250v3; social-box=1; _ym_uid=146011686876731922; _ym_isad=1',\n",
    "}"
   ]
  },
  {
   "cell_type": "code",
   "execution_count": 48,
   "metadata": {
    "collapsed": false
   },
   "outputs": [
    {
     "name": "stdout",
     "output_type": "stream",
     "text": [
      "subject : Подписка активирована!\n",
      "body : Сообщение с последними новостями будут приходить к вам 1 раз в день.\n",
      "error : 0\n"
     ]
    }
   ],
   "source": [
    "r = requests.post(siteaddr, data=postformdata, headers=headers)\n",
    "# print(r.text)\n",
    "json_data = r.json()\n",
    "for j in json_data:\n",
    "    print(j, \":\", json_data[j])"
   ]
  },
  {
   "cell_type": "markdown",
   "metadata": {},
   "source": [
    "### Заголовки, возвращаемые сервером:"
   ]
  },
  {
   "cell_type": "code",
   "execution_count": 27,
   "metadata": {
    "collapsed": false
   },
   "outputs": [
    {
     "name": "stdout",
     "output_type": "stream",
     "text": [
      "server : nginx\n",
      "date : Fri, 08 Apr 2016 12:55:49 GMT\n",
      "transfer-encoding : chunked\n",
      "connection : keep-alive\n",
      "x-powered-by : PHP/5.4.44-0+deb7u1\n",
      "content-type : text/html; charset=utf-8\n",
      "cache-control : no-store, no-cache, must-revalidate, post-check=0, pre-check=0\n",
      "content-encoding : gzip\n",
      "pragma : no-cache\n",
      "expires : Thu, 19 Nov 1981 08:52:00 GMT\n"
     ]
    }
   ],
   "source": [
    "for header in r.headers:\n",
    "    print(header, \":\", r.headers[header])"
   ]
  },
  {
   "cell_type": "code",
   "execution_count": 28,
   "metadata": {
    "collapsed": false
   },
   "outputs": [
    {
     "name": "stdout",
     "output_type": "stream",
     "text": [
      "200\n",
      "utf-8\n"
     ]
    }
   ],
   "source": [
    "print(r.status_code)\n",
    "print(r.encoding)"
   ]
  }
 ],
 "metadata": {
  "kernelspec": {
   "display_name": "Python 3",
   "language": "python",
   "name": "python3"
  },
  "language_info": {
   "codemirror_mode": {
    "name": "ipython",
    "version": 3
   },
   "file_extension": ".py",
   "mimetype": "text/x-python",
   "name": "python",
   "nbconvert_exporter": "python",
   "pygments_lexer": "ipython3",
   "version": "3.4.3"
  }
 },
 "nbformat": 4,
 "nbformat_minor": 0
}
